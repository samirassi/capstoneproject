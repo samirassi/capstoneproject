{
    "cells": [
        {
            "cell_type": "markdown",
            "metadata": {
                "collapsed": true
            },
            "source": "### **Introduction:** In this capstone, several neighborhoods in Frankfurt am Main will be compared to the neighborhood of Five Points, Denver, to determine which are most similar, and which are most different. The comparison will be based on foursquare API data from each neighborhood to compare amenities in each neighborhood.\n\n### **Data:** The following Foursquare API data will be used to compare the selected neighborhoods. Since 5 similar neighborhoods are being compared to a single disparate neighborhood, k means clustering will not be a viable means of analysis. Instead, a pairwise distance matrix will be utilized to compare each neighborhood to the others. This will necessitate a numerical value for the data rather than string categories. Thus, the onehot dataframe will be used, indexed by the neighborhood names(hoodcomp_pdm), to perform the analysis."
        },
        {
            "cell_type": "code",
            "execution_count": 6,
            "metadata": {},
            "outputs": [
                {
                    "name": "stdout",
                    "output_type": "stream",
                    "text": "Requirement already satisfied: geopy in /opt/conda/envs/Python36/lib/python3.6/site-packages (1.18.1)\nRequirement already satisfied: geographiclib<2,>=1.49 in /opt/conda/envs/Python36/lib/python3.6/site-packages (from geopy) (1.49)\nRequirement already satisfied: folium in /opt/conda/envs/Python36/lib/python3.6/site-packages (0.11.0)\nRequirement already satisfied: requests in /opt/conda/envs/Python36/lib/python3.6/site-packages (from folium) (2.21.0)\nRequirement already satisfied: jinja2>=2.9 in /opt/conda/envs/Python36/lib/python3.6/site-packages (from folium) (2.10)\nRequirement already satisfied: numpy in /opt/conda/envs/Python36/lib/python3.6/site-packages (from folium) (1.15.4)\nRequirement already satisfied: branca>=0.3.0 in /opt/conda/envs/Python36/lib/python3.6/site-packages (from folium) (0.4.1)\nRequirement already satisfied: idna<2.9,>=2.5 in /opt/conda/envs/Python36/lib/python3.6/site-packages (from requests->folium) (2.8)\nRequirement already satisfied: certifi>=2017.4.17 in /opt/conda/envs/Python36/lib/python3.6/site-packages (from requests->folium) (2020.6.20)\nRequirement already satisfied: chardet<3.1.0,>=3.0.2 in /opt/conda/envs/Python36/lib/python3.6/site-packages (from requests->folium) (3.0.4)\nRequirement already satisfied: urllib3<1.25,>=1.21.1 in /opt/conda/envs/Python36/lib/python3.6/site-packages (from requests->folium) (1.24.1)\nRequirement already satisfied: MarkupSafe>=0.23 in /opt/conda/envs/Python36/lib/python3.6/site-packages (from jinja2>=2.9->folium) (1.1.0)\nYour credentails:\nCLIENT_ID: FTIRR55RB4P1OQXANB0D0SQFSFW1FR02DYJH52VQWWZZXXWY\nCLIENT_SECRET:QUP2H2VA23RUES5EXFMTKXLSJM4IISLP15OHT23HYVBCBM3B\n"
                },
                {
                    "ename": "NameError",
                    "evalue": "name 'neighborhood_latitude' is not defined",
                    "output_type": "error",
                    "traceback": [
                        "\u001b[0;31m---------------------------------------------------------------------------\u001b[0m",
                        "\u001b[0;31mNameError\u001b[0m                                 Traceback (most recent call last)",
                        "\u001b[0;32m<ipython-input-6-6a293eca8d44>\u001b[0m in \u001b[0;36m<module>\u001b[0;34m\u001b[0m\n\u001b[1;32m     43\u001b[0m     \u001b[0mCLIENT_SECRET\u001b[0m\u001b[0;34m,\u001b[0m\u001b[0;34m\u001b[0m\u001b[0;34m\u001b[0m\u001b[0m\n\u001b[1;32m     44\u001b[0m     \u001b[0mVERSION\u001b[0m\u001b[0;34m,\u001b[0m\u001b[0;34m\u001b[0m\u001b[0;34m\u001b[0m\u001b[0m\n\u001b[0;32m---> 45\u001b[0;31m     \u001b[0mneighborhood_latitude\u001b[0m\u001b[0;34m,\u001b[0m\u001b[0;34m\u001b[0m\u001b[0;34m\u001b[0m\u001b[0m\n\u001b[0m\u001b[1;32m     46\u001b[0m     \u001b[0mneighborhood_longitude\u001b[0m\u001b[0;34m,\u001b[0m\u001b[0;34m\u001b[0m\u001b[0;34m\u001b[0m\u001b[0m\n\u001b[1;32m     47\u001b[0m     \u001b[0mradius\u001b[0m\u001b[0;34m,\u001b[0m\u001b[0;34m\u001b[0m\u001b[0;34m\u001b[0m\u001b[0m\n",
                        "\u001b[0;31mNameError\u001b[0m: name 'neighborhood_latitude' is not defined"
                    ]
                }
            ],
            "source": "#import pandas\nimport pandas as pd\nimport numpy as np\n! pip install geopy\n!pip install folium\n#!conda install -c conda-forge geopy --yes # uncomment this line if you haven't completed the Foursquare API lab\nfrom geopy.geocoders import Nominatim # convert an address into latitude and longitude values\nimport requests # library to handle requests\nfrom pandas.io.json import json_normalize # tranform JSON file into a pandas dataframe\n# Matplotlib and associated plotting modules\nimport matplotlib.cm as cm\nimport matplotlib.colors as colors\n# import k-means from clustering stage\nfrom sklearn.cluster import KMeans\n#!conda install -c conda-forge folium=0.5.0 --yes # uncomment this line if you haven't completed the Foursquare API lab\nimport folium # map rendering library\n#create data frame containing names and location data for the two neighborhoods to be compared\nhoods = [['Five Points','39.75472','-104.97806'],\n         ['Bockenheim','50.12498','8.64538'],\n         ['Innenstadt','50.11029','8.68417'],\n         ['Westend','50.11651','8.66375'],\n         ['Sachsenhausen','50.1008','8.68556'],\n         ['Bornheim','50.13135', '8.71251'],\n         ['Nordend','50.12988', '8.67946'],\n         ]\nhoodcomp = pd.DataFrame(hoods, index=[0, 1,2,3,4,5,6], columns=['Neighborhood', 'Latitude', 'Longitude'])\nhoodcomp\nCLIENT_ID = 'FTIRR55RB4P1OQXANB0D0SQFSFW1FR02DYJH52VQWWZZXXWY' \nCLIENT_SECRET = 'QUP2H2VA23RUES5EXFMTKXLSJM4IISLP15OHT23HYVBCBM3B' \nVERSION = '20180605' \n\nprint('Your credentails:')\nprint('CLIENT_ID: ' + CLIENT_ID)\nprint('CLIENT_SECRET:' + CLIENT_SECRET)\nhoodcomp.columns=['Neighborhood','Latitude','Longitude']\nhoodcomp\n\n\n#Get request URL\nLIMIT = 100\nradius = 500\nurl = 'https://api.foursquare.com/v2/venues/explore?&client_id={}&client_secret={}&v={}&ll={},{}&radius={}&limit={}'.format(\n    CLIENT_ID, \n    CLIENT_SECRET, \n    VERSION, \n    neighborhood_latitude, \n    neighborhood_longitude, \n    radius, \n    LIMIT)\nurl\n#obtain and label lat/long of the first neighborhood(s)\nneighborhood_latitude = hoodcomp.loc[0, 'Latitude']\nneighborhood_longitude = hoodcomp.loc[0, 'Longitude']\n\nneighborhood_name = hoodcomp.loc[0, 'Neighborhood']\n\nprint('Latitude and longitude values of {} are {}, {}.'.format(neighborhood_name, \n                                                               neighborhood_latitude, \n                                                               neighborhood_longitude))\n#Get request URL\nLIMIT = 100\nradius = 500\nurl = 'https://api.foursquare.com/v2/venues/explore?&client_id={}&client_secret={}&v={}&ll={},{}&radius={}&limit={}'.format(\n    CLIENT_ID, \n    CLIENT_SECRET, \n    VERSION, \n    neighborhood_latitude, \n    neighborhood_longitude, \n    radius, \n    LIMIT)\nurl\n#results of get request\nresults = requests.get(url).json()\n\n#obtain venue categories\ndef get_category_type(row):\n    try:\n        categories_list = row['categories']\n    except:\n        categories_list = row['venue.categories']\n        \n    if len(categories_list) == 0:\n        return None\n    else:\n        return categories_list[0]['name']\n#convert results to dataframe\nvenues = results['response']['groups'][0]['items']\n    \nnearby_venues = json_normalize(venues) # flatten JSON\n\n# filter columns\nfiltered_columns = ['venue.name', 'venue.categories', 'venue.location.lat', 'venue.location.lng']\nnearby_venues =nearby_venues.loc[:, filtered_columns]\n\n# filter the category for each row\nnearby_venues['venue.categories'] = nearby_venues.apply(get_category_type, axis=1)\n\n# clean columns\nnearby_venues.columns = [col.split(\".\")[-1] for col in nearby_venues.columns]\n# formula to obtain venues in all neighborhoods\ndef getNearbyVenues(names, latitudes, longitudes, radius=500):\n    \n    venues_list=[]\n    for name, lat, lng in zip(names, latitudes, longitudes):\n        print(name)\n            \n        # create the API request URL\n        url = 'https://api.foursquare.com/v2/venues/explore?&client_id={}&client_secret={}&v={}&ll={},{}&radius={}&limit={}'.format(\n            CLIENT_ID, \n            CLIENT_SECRET, \n            VERSION, \n            lat, \n            lng, \n            radius, \n            LIMIT)\n            \n        # make the GET request\n        results = requests.get(url).json()[\"response\"]['groups'][0]['items']\n        \n        # return only relevant information for each nearby venue\n        venues_list.append([(\n            name, \n            lat, \n            lng, \n            v['venue']['name'], \n            v['venue']['location']['lat'], \n            v['venue']['location']['lng'],  \n            v['venue']['categories'][0]['name']) for v in results])\n\n    nearby_venues = pd.DataFrame([item for venue_list in venues_list for item in venue_list])\n    nearby_venues.columns = ['Neighborhood', \n                  'Latitude', \n                  'Longitude', \n                  'Venue', \n                  'Venue Latitude', \n                  'Venue Longitude', \n                  'Venue Category']\n    \n    return(nearby_venues)\n# run formula for each neighborhood\nhoodcomp_venues = getNearbyVenues(names=hoodcomp['Neighborhood'],\n                                   latitudes=hoodcomp['Latitude'],\n                                   longitudes=hoodcomp['Longitude']\n                                  )\n#onehot encoding\nhoodcomp_onehot = pd.get_dummies(hoodcomp_venues[['Venue Category']], prefix=\"\", prefix_sep=\"\")\n\n# add neighborhood column back to dataframe\nhoodcomp_onehot['Neighborhood'] = hoodcomp_venues['Neighborhood'] \n\n# move neighborhood column to the first column\nfixed_columns = [hoodcomp_onehot.columns[-1]] + list(hoodcomp_onehot.columns[:-1])\nhoodcomp_onehot = hoodcomp_onehot[fixed_columns]\n\nhoodcomp_onehot.head()\nhoodcomp_grouped = hoodcomp_onehot.groupby('Neighborhood').mean().reset_index()\nhoodcomp_grouped\n#the pairwise distance matrix cannot parse the neighborhood str, so i set the neighborhood names as the df index\nhoodcomp_pdm=hoodcomp_grouped.set_index(\"Neighborhood\")\nhoodcomp_pdm"
        },
        {
            "cell_type": "code",
            "execution_count": null,
            "metadata": {},
            "outputs": [],
            "source": ""
        }
    ],
    "metadata": {
        "kernelspec": {
            "display_name": "Python 3.6",
            "language": "python",
            "name": "python3"
        },
        "language_info": {
            "codemirror_mode": {
                "name": "ipython",
                "version": 3
            },
            "file_extension": ".py",
            "mimetype": "text/x-python",
            "name": "python",
            "nbconvert_exporter": "python",
            "pygments_lexer": "ipython3",
            "version": "3.6.9"
        }
    },
    "nbformat": 4,
    "nbformat_minor": 1
}